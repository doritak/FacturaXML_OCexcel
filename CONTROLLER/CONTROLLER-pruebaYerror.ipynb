{
 "cells": [
  {
   "cell_type": "markdown",
   "metadata": {},
   "source": [
    "# Pruebas y error del Controlador"
   ]
  },
  {
   "cell_type": "code",
   "execution_count": 4,
   "metadata": {},
   "outputs": [
    {
     "name": "stdout",
     "output_type": "stream",
     "text": [
      "['Orden compra con imp. de ventas']\n"
     ]
    }
   ],
   "source": [
    "import os\n",
    "from openpyxl import load_workbook\n",
    "\n",
    "def load_excel_workbook(ruta_excel):\n",
    "    ruta_absoluta = os.path.abspath(ruta_excel)\n",
    "    if not os.path.exists(ruta_absoluta):\n",
    "        print(f\"El archivo no existe: {ruta_absoluta}\")\n",
    "        return None\n",
    "    try:\n",
    "        workbook = load_workbook(filename=ruta_absoluta, data_only=True)\n",
    "        return workbook\n",
    "    except Exception as e:\n",
    "        print(f\"Error cargando workbook: {e}\")\n",
    "        return None\n",
    "\n",
    "# Example usage\n",
    "excel_route = '../_Doc_Import/OC nro 6791.xlsx'\n",
    "workbook = load_excel_workbook(excel_route)\n",
    "\n",
    "if workbook:\n",
    "    # Proceed with further processing\n",
    "    print(workbook.sheetnames)"
   ]
  },
  {
   "cell_type": "code",
   "execution_count": 5,
   "metadata": {},
   "outputs": [
    {
     "name": "stdout",
     "output_type": "stream",
     "text": [
      "17 1\n"
     ]
    }
   ],
   "source": [
    "def encontrar_palabra_celda(ruta_excel, palabra):\n",
    "    \n",
    "    workbook = load_excel_workbook(ruta_excel)\n",
    "    hoja = workbook.active\n",
    "    \n",
    "    for fila in hoja.iter_rows():\n",
    "        for celda in fila:\n",
    "            if celda.value == palabra:\n",
    "                return celda.row, celda.column\n",
    "    return None, None\n",
    "inicio_fila, inicio_col = encontrar_palabra_celda(excel_route, \"Código\")\n",
    "print(inicio_fila, inicio_col)    "
   ]
  },
  {
   "cell_type": "code",
   "execution_count": 7,
   "metadata": {},
   "outputs": [
    {
     "name": "stdout",
     "output_type": "stream",
     "text": [
      "c:\\Users\\doran\\Dropbox\\privado Dorita\\_Dipl Python\\_Mein Projekts\\XML OC Excel\\CONTROLLER\\_Doc_Import\\OC nro 6791.xlsx\n"
     ]
    }
   ],
   "source": [
    "import sys\n",
    "import os\n",
    "import pandas as pd\n",
    "from openpyxl import load_workbook\n",
    "\n",
    "\n",
    "# archivo = 'XML OC Excel/../_Doc_Import/OC nro 6791.xlsx'\n",
    "# palabra = 'Código'\n",
    "# df = leer_oc(archivo, palabra)\n",
    "# print(df)\n",
    "\n",
    "# excel_route = '../_Doc_Import/OC nro 6791.xlsx'\n",
    "# workbook = cargar_excel_workbook(excel_route)\n",
    "\n",
    "# if workbook:\n",
    "#     # Proceed with further processing\n",
    "#     print(workbook.sheetnames)\n",
    "\n",
    "# fila, columna = encontrar_palabra_celda('../_Doc_Import/OC nro 6791.xlsx', 'Código')\n",
    "# print(fila,columna)\n",
    "\n",
    "excel_route = 'XML OC Excel/../_Doc_Import/OC nro 6791.xlsx'\n",
    "ruta_absoluta = os.path.abspath(excel_route)\n",
    "print(ruta_absoluta)"
   ]
  },
  {
   "cell_type": "code",
   "execution_count": 17,
   "metadata": {},
   "outputs": [],
   "source": [
    "from tkinter import *\n",
    "import tkinter as tk\n",
    "\n",
    "ventana = Tk()\n",
    "ventana.title(\"Hola Mundo\")\n",
    "ventana.minsize(400, 200)\n",
    "ventana.config(bg=\"lightblue\")\n",
    "\n",
    "etiqueta1 = Label(text=\"escribe tu nombre de usurario: \", font=(\"Arial Bold\", 12))\n",
    "etiqueta1.grid(column=0, row=1)\n",
    "\n",
    "cajatexto = Entry(width=20, font=(\"Arial Bold\", 12))\n",
    "cajatexto.grid(column=0, row=2)\n",
    "\n",
    "boton = Button(text=\"Aceptar\", font=(\"Arial Bold\", 12))\n",
    "boton.grid(column=0, row=3)\n",
    "\n",
    "\n",
    "ventana.mainloop()"
   ]
  },
  {
   "cell_type": "markdown",
   "metadata": {},
   "source": [
    "# Entender obtener las rutas absolutas y relativas"
   ]
  },
  {
   "cell_type": "code",
   "execution_count": 1,
   "metadata": {},
   "outputs": [
    {
     "name": "stdout",
     "output_type": "stream",
     "text": [
      "direcotrio actual: c:\\Users\\doran\\Dropbox\\privado Dorita\\_Dipl Python\\_Mein Projekts\\XML OC Excel\\CONTROLLER\n",
      "direcotrio base : c:\\Users\\doran\\Dropbox\\privado Dorita\\_Dipl Python\\_Mein Projekts\\XML OC Excel\n",
      "dir_salida: c:\\Users\\doran\\Dropbox\\privado Dorita\\_Dipl Python\\_Mein Projekts\\XML OC Excel\\_Excel_Resultado\n",
      "##################################################\n",
      "directorio excel: c:\\Users\\doran\\Dropbox\\privado Dorita\\_Dipl Python\\_Mein Projekts\\XML OC Excel\\Excel_Resultado\\OC nro 6791.xlsx\n",
      "ruta_absoluta de ../_Doc_Import/OC nro 6791.xlsx: c:\\Users\\doran\\Dropbox\\privado Dorita\\_Dipl Python\\_Mein Projekts\\XML OC Excel\\_Doc_Import\\OC nro 6791.xlsx\n",
      "dir_base_abs: c:\\Users\\doran\\Dropbox\\privado Dorita\\_Dipl Python\\_Mein Projekts\\XML OC Excel\\_Doc_Import\\..\n",
      "##################################################\n",
      "directorio_datos: C:\\Users\\doran\\MisDocumentos\\output\n"
     ]
    }
   ],
   "source": [
    "import os\n",
    "# Obtener la ruta absoluta del directorio actual get current working directory\n",
    "directorio_actual = os.getcwd()\n",
    "print(f\"direcotrio actual: {directorio_actual}\")\n",
    "# para subir un directorio\n",
    "dir_base = os.path.dirname(os.path.abspath(os.getcwd()))\n",
    "# dir_base = os.path.dirname(os.path.abspath(__file__))\n",
    "print(f\"direcotrio base : {dir_base}\")\n",
    "\n",
    "# Subir un directorio para ir a la carpeta principal\n",
    "# dir_base = os.path.dirname(directorio_actual)\n",
    "# print(f\"dir_base: {dir_base}\")\n",
    "\n",
    "# Defino el directorio donde se guardará el archivo Excel\n",
    "dir_salida = os.path.join(dir_base, '_Excel_Resultado')\n",
    "print(f\"dir_salida: {dir_salida}\")\n",
    "print(\"#\"*50)\n",
    "dir_Salida_Excel = os.path.join(os.path.dirname(os.path.abspath(os.getcwd())), \"Excel_Resultado\",\"OC nro 6791.xlsx\")\n",
    "print(f\"directorio excel: {dir_Salida_Excel}\")\n",
    "excel_route = '../_Doc_Import/OC nro 6791.xlsx'\n",
    "ruta_absoluta = os.path.abspath(excel_route)\n",
    "print(f\"ruta_absoluta de ../_Doc_Import/OC nro 6791.xlsx: {ruta_absoluta}\")\n",
    "\n",
    "# entrelazar_rutas = os.path.join(os.path.dirname(__file__), '..', 'CONTROLLER', 'miscelaneos', 'fsc.ico')\n",
    "# print(entrelazar_rutas)\n",
    "dir_base_abs = os.path.join(os.path.dirname(ruta_absoluta), '..')\n",
    "print(f\"dir_base_abs: {dir_base_abs}\")\n",
    "print(\"#\"*50)\n",
    "directorio_usuario = os.path.expanduser(\"~\") # carpeta principal del usuario\n",
    "directorio_datos = os.path.join(directorio_usuario, \"MisDocumentos\", \"output\")\n",
    "print(f\"directorio_datos: {directorio_datos}\")\n",
    "####################### para saber si existe un archivo\n",
    "if not os.path.exists(excel_route):\n",
    "        print(f\"El archivo no existe: {excel_route}\")"
   ]
  },
  {
   "cell_type": "code",
   "execution_count": 14,
   "metadata": {},
   "outputs": [
    {
     "name": "stdout",
     "output_type": "stream",
     "text": [
      "Directorio de salida creado en: c:\\Users\\doran\\Dropbox\\privado Dorita\\_Dipl Python\\_Mein Projekts\\XML OC Excel\\output\n"
     ]
    }
   ],
   "source": [
    "import os\n",
    "import sys\n",
    "\n",
    "# Obtener el directorio donde está el ejecutable (o script, si se ejecuta como script)\n",
    "if getattr(sys, 'frozen', False):\n",
    "    # Si es un ejecutable\n",
    "    directorio_base = os.path.dirname(sys.executable)\n",
    "else:\n",
    "    # Si se ejecuta como script de Python\n",
    "    directorio_base = os.path.dirname(os.path.abspath(__file__))\n",
    "    # directorio_base = os.path.dirname(os.path.abspath(os.getcwd()))\n",
    "\n",
    "# Crear el directorio de salida relativo al directorio del ejecutable aqui lo concatena\n",
    "directorio_salida = os.path.join(directorio_base, \"output\")\n",
    "directorio_salida = os.path.join(directorio_base,\"..\", \"output\")\n",
    "\n",
    "\n",
    "# Crear el directorio si no existe\n",
    "# os.makedirs(directorio_salida, exist_ok=True)\n",
    "\n",
    "print(f\"Directorio de salida creado en: {directorio_salida}\")"
   ]
  }
 ],
 "metadata": {
  "kernelspec": {
   "display_name": "Python 3",
   "language": "python",
   "name": "python3"
  },
  "language_info": {
   "codemirror_mode": {
    "name": "ipython",
    "version": 3
   },
   "file_extension": ".py",
   "mimetype": "text/x-python",
   "name": "python",
   "nbconvert_exporter": "python",
   "pygments_lexer": "ipython3",
   "version": "3.13.0"
  }
 },
 "nbformat": 4,
 "nbformat_minor": 2
}
