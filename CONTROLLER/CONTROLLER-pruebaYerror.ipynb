{
 "cells": [
  {
   "cell_type": "markdown",
   "metadata": {},
   "source": [
    "# Pruebas y error del Controlador"
   ]
  },
  {
   "cell_type": "code",
   "execution_count": 4,
   "metadata": {},
   "outputs": [
    {
     "name": "stdout",
     "output_type": "stream",
     "text": [
      "['Orden compra con imp. de ventas']\n"
     ]
    }
   ],
   "source": [
    "import os\n",
    "from openpyxl import load_workbook\n",
    "\n",
    "def load_excel_workbook(ruta_excel):\n",
    "    ruta_absoluta = os.path.abspath(ruta_excel)\n",
    "    if not os.path.exists(ruta_absoluta):\n",
    "        print(f\"El archivo no existe: {ruta_absoluta}\")\n",
    "        return None\n",
    "    try:\n",
    "        workbook = load_workbook(filename=ruta_absoluta, data_only=True)\n",
    "        return workbook\n",
    "    except Exception as e:\n",
    "        print(f\"Error cargando workbook: {e}\")\n",
    "        return None\n",
    "\n",
    "# Example usage\n",
    "excel_route = '../_Doc_Import/OC nro 6791.xlsx'\n",
    "workbook = load_excel_workbook(excel_route)\n",
    "\n",
    "if workbook:\n",
    "    # Proceed with further processing\n",
    "    print(workbook.sheetnames)"
   ]
  },
  {
   "cell_type": "code",
   "execution_count": 5,
   "metadata": {},
   "outputs": [
    {
     "name": "stdout",
     "output_type": "stream",
     "text": [
      "17 1\n"
     ]
    }
   ],
   "source": [
    "def encontrar_palabra_celda(ruta_excel, palabra):\n",
    "    \n",
    "    workbook = load_excel_workbook(ruta_excel)\n",
    "    hoja = workbook.active\n",
    "    \n",
    "    for fila in hoja.iter_rows():\n",
    "        for celda in fila:\n",
    "            if celda.value == palabra:\n",
    "                return celda.row, celda.column\n",
    "    return None, None\n",
    "inicio_fila, inicio_col = encontrar_palabra_celda(excel_route, \"Código\")\n",
    "print(inicio_fila, inicio_col)    "
   ]
  },
  {
   "cell_type": "code",
   "execution_count": 6,
   "metadata": {},
   "outputs": [
    {
     "name": "stdout",
     "output_type": "stream",
     "text": [
      "c:\\Users\\doran\\Dropbox\\privado Dorita\\_Dipl Python\\_Mein Projekts\\XML OC Excel\\_Doc_Import\\OC nro 6791.xlsx\n"
     ]
    }
   ],
   "source": [
    "excel_route = '../_Doc_Import/OC nro 6791.xlsx'\n",
    "ruta_absoluta = os.path.abspath(excel_route)\n",
    "print(ruta_absoluta)\n",
    "\n",
    "dir_base = os.path.join(os.path.dirname(ruta_absoluta), '..')"
   ]
  },
  {
   "cell_type": "code",
   "execution_count": 7,
   "metadata": {},
   "outputs": [
    {
     "name": "stdout",
     "output_type": "stream",
     "text": [
      "c:\\Users\\doran\\Dropbox\\privado Dorita\\_Dipl Python\\_Mein Projekts\\XML OC Excel\\CONTROLLER\\_Doc_Import\\OC nro 6791.xlsx\n"
     ]
    }
   ],
   "source": [
    "import sys\n",
    "import os\n",
    "import pandas as pd\n",
    "from openpyxl import load_workbook\n",
    "\n",
    "\n",
    "# archivo = 'XML OC Excel/../_Doc_Import/OC nro 6791.xlsx'\n",
    "# palabra = 'Código'\n",
    "# df = leer_oc(archivo, palabra)\n",
    "# print(df)\n",
    "\n",
    "# excel_route = '../_Doc_Import/OC nro 6791.xlsx'\n",
    "# workbook = cargar_excel_workbook(excel_route)\n",
    "\n",
    "# if workbook:\n",
    "#     # Proceed with further processing\n",
    "#     print(workbook.sheetnames)\n",
    "\n",
    "# fila, columna = encontrar_palabra_celda('../_Doc_Import/OC nro 6791.xlsx', 'Código')\n",
    "# print(fila,columna)\n",
    "\n",
    "excel_route = 'XML OC Excel/../_Doc_Import/OC nro 6791.xlsx'\n",
    "ruta_absoluta = os.path.abspath(excel_route)\n",
    "print(ruta_absoluta)"
   ]
  },
  {
   "cell_type": "code",
   "execution_count": 17,
   "metadata": {},
   "outputs": [],
   "source": [
    "from tkinter import *\n",
    "import tkinter as tk\n",
    "\n",
    "ventana = Tk()\n",
    "ventana.title(\"Hola Mundo\")\n",
    "ventana.minsize(400, 200)\n",
    "ventana.config(bg=\"lightblue\")\n",
    "\n",
    "etiqueta1 = Label(text=\"escribe tu nombre de usurario: \", font=(\"Arial Bold\", 12))\n",
    "etiqueta1.grid(column=0, row=1)\n",
    "\n",
    "cajatexto = Entry(width=20, font=(\"Arial Bold\", 12))\n",
    "cajatexto.grid(column=0, row=2)\n",
    "\n",
    "boton = Button(text=\"Aceptar\", font=(\"Arial Bold\", 12))\n",
    "boton.grid(column=0, row=3)\n",
    "\n",
    "\n",
    "ventana.mainloop()"
   ]
  }
 ],
 "metadata": {
  "kernelspec": {
   "display_name": "Python 3",
   "language": "python",
   "name": "python3"
  },
  "language_info": {
   "codemirror_mode": {
    "name": "ipython",
    "version": 3
   },
   "file_extension": ".py",
   "mimetype": "text/x-python",
   "name": "python",
   "nbconvert_exporter": "python",
   "pygments_lexer": "ipython3",
   "version": "3.13.0"
  }
 },
 "nbformat": 4,
 "nbformat_minor": 2
}
