{
 "cells": [
  {
   "cell_type": "markdown",
   "metadata": {},
   "source": [
    "# Generación de prueba y error para este proyecto\n"
   ]
  },
  {
   "cell_type": "code",
   "execution_count": 1,
   "metadata": {},
   "outputs": [
    {
     "name": "stdout",
     "output_type": "stream",
     "text": [
      "['Sheet1']\n"
     ]
    }
   ],
   "source": [
    "import os\n",
    "from openpyxl import load_workbook\n",
    "\n",
    "def load_excel_workbook(ruta_excel):\n",
    "    ruta_absoluta = os.path.abspath(ruta_excel)\n",
    "    if not os.path.exists(ruta_absoluta):\n",
    "        print(f\"El archivo no existe: {ruta_absoluta}\")\n",
    "        return None\n",
    "    try:\n",
    "        workbook = load_workbook(filename=ruta_absoluta, data_only=True)\n",
    "        return workbook\n",
    "    except Exception as e:\n",
    "        print(f\"Error cargando workbook: {e}\")\n",
    "        return None\n",
    "\n",
    "# Example usage\n",
    "excel_route = '../_Doc_Import/28-10-2024_LIOI_No_Borrar.xlsx'\n",
    "workbook = load_excel_workbook(excel_route)\n",
    "\n",
    "if workbook:\n",
    "    # Proceed with further processing\n",
    "    print(workbook.sheetnames)"
   ]
  }
 ],
 "metadata": {
  "kernelspec": {
   "display_name": "Python 3",
   "language": "python",
   "name": "python3"
  },
  "language_info": {
   "codemirror_mode": {
    "name": "ipython",
    "version": 3
   },
   "file_extension": ".py",
   "mimetype": "text/x-python",
   "name": "python",
   "nbconvert_exporter": "python",
   "pygments_lexer": "ipython3",
   "version": "3.13.0"
  }
 },
 "nbformat": 4,
 "nbformat_minor": 2
}
