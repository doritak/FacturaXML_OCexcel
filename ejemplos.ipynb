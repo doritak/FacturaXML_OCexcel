{
 "cells": [
  {
   "cell_type": "code",
   "execution_count": 16,
   "metadata": {},
   "outputs": [
    {
     "data": {
      "text/plain": [
       "'25-11-2024'"
      ]
     },
     "execution_count": 16,
     "metadata": {},
     "output_type": "execute_result"
    }
   ],
   "source": [
    "Fch = \"2024-11-25\"\n",
    "l = Fch.split('-')\n",
    "\n",
    "dia = l.pop()\n",
    "mes = l.pop()\n",
    "anho = l.pop()\n",
    "l.insert(0, dia)\n",
    "l.insert(1, mes)\n",
    "l.insert(2,anho)\n",
    "fecha = f\"{'-'.join(l)}\"\n",
    "fecha\n"
   ]
  }
 ],
 "metadata": {
  "kernelspec": {
   "display_name": "Python 3",
   "language": "python",
   "name": "python3"
  },
  "language_info": {
   "codemirror_mode": {
    "name": "ipython",
    "version": 3
   },
   "file_extension": ".py",
   "mimetype": "text/x-python",
   "name": "python",
   "nbconvert_exporter": "python",
   "pygments_lexer": "ipython3",
   "version": "3.13.0"
  }
 },
 "nbformat": 4,
 "nbformat_minor": 2
}
